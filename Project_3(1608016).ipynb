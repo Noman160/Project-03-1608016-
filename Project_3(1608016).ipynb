{
  "nbformat": 4,
  "nbformat_minor": 0,
  "metadata": {
    "colab": {
      "name": "Project-3(1608016).ipynb",
      "provenance": [],
      "collapsed_sections": [],
      "include_colab_link": true
    },
    "kernelspec": {
      "name": "python3",
      "display_name": "Python 3"
    },
    "language_info": {
      "name": "python"
    }
  },
  "cells": [
    {
      "cell_type": "markdown",
      "metadata": {
        "id": "view-in-github",
        "colab_type": "text"
      },
      "source": [
        "<a href=\"https://colab.research.google.com/github/Noman160/Project-03-1608016-/blob/main/Project_3(1608016).ipynb\" target=\"_parent\"><img src=\"https://colab.research.google.com/assets/colab-badge.svg\" alt=\"Open In Colab\"/></a>"
      ]
    },
    {
      "cell_type": "markdown",
      "source": [
        "**Course no: ETE456**\n",
        "\n",
        "**Course Title: Neural and Fuzzy Systems in Communication**\n",
        "\n",
        "**ID: 1608016**"
      ],
      "metadata": {
        "id": "REN0vjyG_hVv"
      }
    },
    {
      "cell_type": "markdown",
      "source": [
        "**Experiment name:** Exploring Neural Network to solve a real world problem"
      ],
      "metadata": {
        "id": "xxYZsAQadFAv"
      }
    },
    {
      "cell_type": "markdown",
      "source": [
        "**Objective:**\n",
        "\n",
        "1.   To classify a real world problem (dibetes) using Neural Network."
      ],
      "metadata": {
        "id": "R0FmFCDMZo7Y"
      }
    },
    {
      "cell_type": "markdown",
      "source": [
        "**Description:**\n",
        "\n",
        "The data file was downloaded and read to check if there's any null values available in the dataset. Then the dataset is divided into feature and target values. There was no categorical data in the dataset and hence no encoding technique was applied. After that, dataset is splited into train and test set where train set was used to train the model and test set was used to evaluate the model. Then feature scaling was done to convert large scale values into a normalized form. Neural network model was built to classify dibetes. There were 20 neurons in input layer, 10 neurons in hidden layer and 1 neuron in output layer. Then the model was complied to define loss, optimizer and metrics. The the model was trained to classify dibetes."
      ],
      "metadata": {
        "id": "Zft7kQiqRwQj"
      }
    },
    {
      "cell_type": "code",
      "execution_count": 1,
      "metadata": {
        "id": "rBgZHTd56HuJ"
      },
      "outputs": [],
      "source": [
        "import warnings\n",
        "warnings.filterwarnings(\"ignore\")"
      ]
    },
    {
      "cell_type": "code",
      "source": [
        "import numpy as np        \n",
        "import pandas as pd     \n",
        "import matplotlib.pyplot as plt\n",
        "from sklearn.model_selection import train_test_split\n",
        "from sklearn.preprocessing import StandardScaler"
      ],
      "metadata": {
        "id": "Y89Uil6I6N2j"
      },
      "execution_count": 2,
      "outputs": []
    },
    {
      "cell_type": "code",
      "source": [
        "#Downloading the dataset\n",
        "!wget -O diabetes.csv  https://www.dropbox.com/s/sglreynnyx40pb6/diabetes.csv?dl=0"
      ],
      "metadata": {
        "id": "yVMnegt-6N8U"
      },
      "execution_count": null,
      "outputs": []
    },
    {
      "cell_type": "code",
      "source": [
        "#Reading the dataset\n",
        "dataset = pd.read_csv('diabetes.csv')\n",
        "dataset"
      ],
      "metadata": {
        "id": "PKkK_X6r6N92"
      },
      "execution_count": null,
      "outputs": []
    },
    {
      "cell_type": "code",
      "source": [
        "dataset.columns"
      ],
      "metadata": {
        "id": "SzLmW1GV7K7T"
      },
      "execution_count": null,
      "outputs": []
    },
    {
      "cell_type": "code",
      "source": [
        "#Checking if there's any null values available in the dataset\n",
        "\n",
        "print(dataset[pd.isnull(dataset.Pregnancies)])\n",
        "print(dataset[pd.isnull(dataset.Glucose)])\n",
        "print(dataset[pd.isnull(dataset.BloodPressure)])\n",
        "print(dataset[pd.isnull(dataset.SkinThickness)])\n",
        "print(dataset[pd.isnull(dataset.Insulin)])\n",
        "print(dataset[pd.isnull(dataset.BMI)])\n",
        "print(dataset[pd.isnull(dataset.DiabetesPedigreeFunction)])\n",
        "print(dataset[pd.isnull(dataset.Age)])\n",
        "print(dataset[pd.isnull(dataset.Outcome)])"
      ],
      "metadata": {
        "id": "4Vlv9Uk-6OEk"
      },
      "execution_count": null,
      "outputs": []
    },
    {
      "cell_type": "code",
      "source": [
        "#Dividing the data into feature and target values\n",
        "feature = dataset[['Pregnancies', 'Glucose', 'BloodPressure', 'SkinThickness', 'Insulin',\n",
        "       'BMI', 'DiabetesPedigreeFunction', 'Age']]\n",
        "target = dataset[['Outcome']] "
      ],
      "metadata": {
        "id": "YxvRk3Il6OIG"
      },
      "execution_count": 7,
      "outputs": []
    },
    {
      "cell_type": "code",
      "source": [
        "#Checking the features\n",
        "feature"
      ],
      "metadata": {
        "id": "OULHwNTa6OJ7"
      },
      "execution_count": null,
      "outputs": []
    },
    {
      "cell_type": "code",
      "source": [
        "#Checking the targets\n",
        "target"
      ],
      "metadata": {
        "id": "5YoPWfz07XjV"
      },
      "execution_count": null,
      "outputs": []
    },
    {
      "cell_type": "code",
      "source": [
        "#splitting the dataset into train and test set \n",
        "x_train,x_test,y_train,y_test=train_test_split(feature,target,test_size = 0.2,random_state = 0)\n",
        "\n",
        "print(x_train.shape)\n",
        "print(x_test.shape)"
      ],
      "metadata": {
        "id": "GhaxTFXV7Z6L"
      },
      "execution_count": null,
      "outputs": []
    },
    {
      "cell_type": "code",
      "source": [
        "#Standardizing the data for large scale values\n",
        "x_sc = StandardScaler()\n",
        "x_train = x_sc.fit_transform(x_train)\n",
        "x_test = x_sc.transform(x_test)"
      ],
      "metadata": {
        "id": "X-2z1Iv-7lNS"
      },
      "execution_count": 11,
      "outputs": []
    },
    {
      "cell_type": "code",
      "source": [
        "import tensorflow as tf\n",
        "from tensorflow.keras import Sequential\n",
        "from tensorflow.keras.layers import Dense"
      ],
      "metadata": {
        "id": "BWR5utkf7oAM"
      },
      "execution_count": 12,
      "outputs": []
    },
    {
      "cell_type": "code",
      "source": [
        "#Building Neural Network model\n",
        "model = Sequential()\n",
        "model.add(Dense(20, input_dim=8, activation='relu'))\n",
        "model.add(Dense(10, activation='relu'))\n",
        "model.add(Dense(1, activation='sigmoid'))"
      ],
      "metadata": {
        "id": "FzGzrhi17o1U"
      },
      "execution_count": 13,
      "outputs": []
    },
    {
      "cell_type": "code",
      "source": [
        "model.summary()"
      ],
      "metadata": {
        "id": "5jSj9txS7xsb"
      },
      "execution_count": null,
      "outputs": []
    },
    {
      "cell_type": "code",
      "source": [
        "#Defining loss,optimizer and metrics\n",
        "model.compile(loss='binary_crossentropy',\n",
        "              optimizer='adam',\n",
        "              metrics=['accuracy'])\n",
        "\n",
        "history = model.fit(x_train, \n",
        "                    y_train, \n",
        "                    epochs=100, \n",
        "                    validation_split=0.1)"
      ],
      "metadata": {
        "id": "yn0ce11l8XIj"
      },
      "execution_count": null,
      "outputs": []
    },
    {
      "cell_type": "code",
      "source": [
        "history_df = pd.DataFrame(history.history)\n",
        "plt.plot(history_df['loss'], label='loss')\n",
        "plt.plot(history_df['val_loss'], label='val_loss')\n",
        "\n",
        "plt.legend()"
      ],
      "metadata": {
        "colab": {
          "base_uri": "https://localhost:8080/",
          "height": 282
        },
        "id": "G7b0_-F58XPS",
        "outputId": "5635d7ab-d818-40d4-fb3c-30cb77409f07"
      },
      "execution_count": 16,
      "outputs": [
        {
          "output_type": "execute_result",
          "data": {
            "text/plain": [
              "<matplotlib.legend.Legend at 0x7f29ac6737d0>"
            ]
          },
          "metadata": {},
          "execution_count": 16
        },
        {
          "output_type": "display_data",
          "data": {
            "image/png": "[encoded data removed]",
            "text/plain": [
              "<Figure size 432x288 with 1 Axes>"
            ]
          },
          "metadata": {
            "needs_background": "light"
          }
        }
      ]
    },
    {
      "cell_type": "code",
      "source": [
        "plt.plot(history_df['accuracy'], label='acc')\n",
        "plt.plot(history_df['val_accuracy'], label='val_acc')\n",
        "\n",
        "plt.legend()"
      ],
      "metadata": {
        "colab": {
          "base_uri": "https://localhost:8080/",
          "height": 282
        },
        "id": "xmqSWvC78XX6",
        "outputId": "6be9ea87-ba38-4ab2-8dfc-1c7f6d8b4ee4"
      },
      "execution_count": 17,
      "outputs": [
        {
          "output_type": "execute_result",
          "data": {
            "text/plain": [
              "<matplotlib.legend.Legend at 0x7f29afd1c890>"
            ]
          },
          "metadata": {},
          "execution_count": 17
        },
        {
          "output_type": "display_data",
          "data": {
            "image/png": "[encoded data removed]",
            "text/plain": [
              "<Figure size 432x288 with 1 Axes>"
            ]
          },
          "metadata": {
            "needs_background": "light"
          }
        }
      ]
    },
    {
      "cell_type": "code",
      "source": [
        "from sklearn.metrics import classification_report, confusion_matrix, ConfusionMatrixDisplay\n",
        "y_pred = model.predict(x_test)\n",
        "y_pred = y_pred > 0.5\n",
        "pred = y_pred.astype('uint8')\n",
        "cm = confusion_matrix(y_test,y_pred)\n",
        "disp = ConfusionMatrixDisplay(confusion_matrix=cm)\n",
        "disp.plot()\n",
        "plt.show()\n",
        "\n",
        "print(classification_report(y_test,y_pred,target_names = ['No','Yes']))"
      ],
      "metadata": {
        "colab": {
          "base_uri": "https://localhost:8080/",
          "height": 439
        },
        "id": "P0X_9xmgBQU9",
        "outputId": "c58567fe-d85f-4fa9-ce21-967fee7e43dc"
      },
      "execution_count": 19,
      "outputs": [
        {
          "output_type": "display_data",
          "data": {
            "image/png": "[encoded data removed]",
            "text/plain": [
              "<Figure size 432x288 with 2 Axes>"
            ]
          },
          "metadata": {
            "needs_background": "light"
          }
        },
        {
          "output_type": "stream",
          "name": "stdout",
          "text": [
            "              precision    recall  f1-score   support\n",
            "\n",
            "          No       0.84      0.84      0.84       107\n",
            "         Yes       0.64      0.64      0.64        47\n",
            "\n",
            "    accuracy                           0.78       154\n",
            "   macro avg       0.74      0.74      0.74       154\n",
            "weighted avg       0.78      0.78      0.78       154\n",
            "\n"
          ]
        }
      ]
    },
    {
      "cell_type": "markdown",
      "source": [
        "**Result:**\n",
        "\n",
        "              precision    recall  f1-score   support\n",
        "\n",
        "           0       0.83      0.84      0.84       107\n",
        "           1       0.63      0.62      0.62        47\n",
        "\n",
        "    accuracy                           0.78       154\n",
        "    macro avg      0.73      0.73      0.73       154\n",
        "    weighted avg   0.77      0.77      0.77       154"
      ],
      "metadata": {
        "id": "xnHpUZf0cdXm"
      }
    },
    {
      "cell_type": "markdown",
      "source": [
        "**Conclusion:**\n",
        "\n",
        "A neural network model was designed to classify dibetes. No encoding technique was applied since there was no categorical value available in the dataset. Large scale values were converted to a normalized form to reduce the complexity of the model. The model provided an accuracy of 78%."
      ],
      "metadata": {
        "id": "DWkhdz_pdQKI"
      }
    }
  ]
}